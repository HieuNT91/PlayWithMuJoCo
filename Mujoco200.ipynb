{
  "nbformat": 4,
  "nbformat_minor": 0,
  "metadata": {
    "colab": {
      "name": "Mujoco200.ipynb",
      "provenance": [],
      "collapsed_sections": []
    },
    "kernelspec": {
      "name": "python3",
      "display_name": "Python 3"
    },
    "language_info": {
      "name": "python"
    }
  },
  "cells": [
    {
      "cell_type": "markdown",
      "metadata": {
        "id": "nENKcO_E1G4n"
      },
      "source": [
        "# Install Mujoco200 on Google Colab"
      ]
    },
    {
      "cell_type": "code",
      "metadata": {
        "colab": {
          "base_uri": "https://localhost:8080/"
        },
        "id": "MIqIeFH33-eM",
        "outputId": "5b4436a7-af79-4f93-b091-cb9f26d0c02d"
      },
      "source": [
        "!wget https://www.roboti.us/download/mujoco200_linux.zip\n",
        "!wget https://www.roboti.us/file/mjkey.txt\n",
        "!unzip mujoco200_linux.zip\n",
        "!mv ./mujoco200_linux ./mujoco200\n",
        "!cp mjkey.txt mujoco200/bin/mjkey.txt\n",
        "!mkdir /root/.mujoco\n",
        "!mv mujoco200 /root/.mujoco/mujoco200\n",
        "!mv mjkey.txt /root/.mujoco"
      ],
      "execution_count": 1,
      "outputs": [
        {
          "output_type": "stream",
          "name": "stdout",
          "text": [
            "--2021-10-19 05:01:39--  https://www.roboti.us/download/mujoco200_linux.zip\n",
            "Resolving www.roboti.us (www.roboti.us)... 104.40.85.93\n",
            "Connecting to www.roboti.us (www.roboti.us)|104.40.85.93|:443... connected.\n",
            "HTTP request sent, awaiting response... 200 OK\n",
            "Length: 4427362 (4.2M) [application/zip]\n",
            "Saving to: ‘mujoco200_linux.zip’\n",
            "\n",
            "mujoco200_linux.zip 100%[===================>]   4.22M  4.67MB/s    in 0.9s    \n",
            "\n",
            "2021-10-19 05:01:40 (4.67 MB/s) - ‘mujoco200_linux.zip’ saved [4427362/4427362]\n",
            "\n",
            "--2021-10-19 05:01:40--  https://www.roboti.us/file/mjkey.txt\n",
            "Resolving www.roboti.us (www.roboti.us)... 104.40.85.93\n",
            "Connecting to www.roboti.us (www.roboti.us)|104.40.85.93|:443... connected.\n",
            "HTTP request sent, awaiting response... 200 OK\n",
            "Length: 768 [text/plain]\n",
            "Saving to: ‘mjkey.txt’\n",
            "\n",
            "mjkey.txt           100%[===================>]     768  --.-KB/s    in 0s      \n",
            "\n",
            "2021-10-19 05:01:41 (62.4 MB/s) - ‘mjkey.txt’ saved [768/768]\n",
            "\n",
            "Archive:  mujoco200_linux.zip\n",
            "   creating: mujoco200_linux/\n",
            "   creating: mujoco200_linux/sample/\n",
            "  inflating: mujoco200_linux/sample/mjxmake.m  \n",
            "  inflating: mujoco200_linux/sample/makefile  \n",
            "  inflating: mujoco200_linux/sample/mjx.cpp  \n",
            "  inflating: mujoco200_linux/sample/simulate.cpp  \n",
            "  inflating: mujoco200_linux/sample/record.cpp  \n",
            "  inflating: mujoco200_linux/sample/basic.cpp  \n",
            "  inflating: mujoco200_linux/sample/derivative.cpp  \n",
            "  inflating: mujoco200_linux/sample/compile.cpp  \n",
            "  inflating: mujoco200_linux/sample/testspeed.cpp  \n",
            "  inflating: mujoco200_linux/sample/testxml.cpp  \n",
            "   creating: mujoco200_linux/model/\n",
            "  inflating: mujoco200_linux/model/sponge.png  \n",
            "  inflating: mujoco200_linux/model/softellipsoid.xml  \n",
            "  inflating: mujoco200_linux/model/softcylinder.xml  \n",
            "  inflating: mujoco200_linux/model/softbox.xml  \n",
            "  inflating: mujoco200_linux/model/scene.xml  \n",
            "  inflating: mujoco200_linux/model/rope.xml  \n",
            "  inflating: mujoco200_linux/model/particle.xml  \n",
            "  inflating: mujoco200_linux/model/marble.png  \n",
            "  inflating: mujoco200_linux/model/loop.xml  \n",
            "  inflating: mujoco200_linux/model/grid2pin.xml  \n",
            "  inflating: mujoco200_linux/model/grid2.xml  \n",
            "  inflating: mujoco200_linux/model/grid1pin.xml  \n",
            "  inflating: mujoco200_linux/model/grid1.xml  \n",
            "  inflating: mujoco200_linux/model/cloth.xml  \n",
            "  inflating: mujoco200_linux/model/carpet.png  \n",
            "  inflating: mujoco200_linux/model/hammock.xml  \n",
            "  inflating: mujoco200_linux/model/humanoid100.xml  \n",
            "  inflating: mujoco200_linux/model/humanoid.xml  \n",
            "  inflating: mujoco200_linux/model/arm26.xml  \n",
            "   creating: mujoco200_linux/include/\n",
            "  inflating: mujoco200_linux/include/uitools.h  \n",
            "  inflating: mujoco200_linux/include/uitools.c  \n",
            "  inflating: mujoco200_linux/include/mujoco.h  \n",
            "  inflating: mujoco200_linux/include/mjxmacro.h  \n",
            "  inflating: mujoco200_linux/include/mjvisualize.h  \n",
            "  inflating: mujoco200_linux/include/mjui.h  \n",
            "  inflating: mujoco200_linux/include/mjrender.h  \n",
            "  inflating: mujoco200_linux/include/mjmodel.h  \n",
            "  inflating: mujoco200_linux/include/mjdata.h  \n",
            "  inflating: mujoco200_linux/include/glfw3.h  \n",
            "   creating: mujoco200_linux/doc/\n",
            "  inflating: mujoco200_linux/doc/README.txt  \n",
            "  inflating: mujoco200_linux/doc/REFERENCE.txt  \n",
            "   creating: mujoco200_linux/bin/\n",
            "  inflating: mujoco200_linux/bin/libmujoco200.so  \n",
            "  inflating: mujoco200_linux/bin/simulate  \n",
            "  inflating: mujoco200_linux/bin/record  \n",
            "  inflating: mujoco200_linux/bin/basic  \n",
            "  inflating: mujoco200_linux/bin/derivative  \n",
            "  inflating: mujoco200_linux/bin/compile  \n",
            "  inflating: mujoco200_linux/bin/testspeed  \n",
            "  inflating: mujoco200_linux/bin/testxml  \n",
            "  inflating: mujoco200_linux/bin/libmujoco200nogl.so  \n",
            "  inflating: mujoco200_linux/bin/libglfw3.a  \n",
            "  inflating: mujoco200_linux/bin/libglfw.so.3  \n",
            "  inflating: mujoco200_linux/bin/libglewosmesa.so  \n",
            "  inflating: mujoco200_linux/bin/libglewegl.so  \n",
            "  inflating: mujoco200_linux/bin/libglew.so  \n"
          ]
        }
      ]
    },
    {
      "cell_type": "code",
      "metadata": {
        "colab": {
          "base_uri": "https://localhost:8080/"
        },
        "id": "CfxOhsCO6g0h",
        "outputId": "564ad9cf-3129-4229-f7df-48d216c2bf3a"
      },
      "source": [
        "!ls /root/.mujoco\n",
        "!ls /root/.mujoco/mujoco200/bin"
      ],
      "execution_count": 4,
      "outputs": [
        {
          "output_type": "stream",
          "name": "stdout",
          "text": [
            "mjkey.txt  mujoco200\n",
            "basic\t    libglewegl.so     libglfw3.a\t   libmujoco200.so  simulate\n",
            "compile     libglewosmesa.so  libglfw.so.3\t   mjkey.txt\t    testspeed\n",
            "derivative  libglew.so\t      libmujoco200nogl.so  record\t    testxml\n"
          ]
        }
      ]
    },
    {
      "cell_type": "code",
      "metadata": {
        "colab": {
          "base_uri": "https://localhost:8080/"
        },
        "id": "yZ9pM0geP8_Z",
        "outputId": "14e2faa2-e67d-4ca0-b835-52adb7da4b77"
      },
      "source": [
        "!sudo apt install libosmesa6-dev libgl1-mesa-glx libglfw3 patchelf\n",
        "!pip3 install fasteners glfw\n",
        "!echo 'export LD_LIBRARY_PATH=$LD_LIBRARY_PATH:/root/.mujoco/mujoco200/bin' >> /root/.bashrc\n",
        "!source /root/.bashrc\n"
      ],
      "execution_count": 2,
      "outputs": [
        {
          "output_type": "stream",
          "name": "stdout",
          "text": [
            "Reading package lists... Done\n",
            "Building dependency tree       \n",
            "Reading state information... Done\n",
            "The following additional packages will be installed:\n",
            "  libosmesa6\n",
            "Suggested packages:\n",
            "  libegl1-mesa | libegl1-x11 libvulkan1\n",
            "The following NEW packages will be installed:\n",
            "  libgl1-mesa-glx libglfw3 libosmesa6 libosmesa6-dev patchelf\n",
            "0 upgraded, 5 newly installed, 0 to remove and 37 not upgraded.\n",
            "Need to get 2,751 kB of archives.\n",
            "After this operation, 10.9 MB of additional disk space will be used.\n",
            "Get:1 http://archive.ubuntu.com/ubuntu bionic-updates/main amd64 libgl1-mesa-glx amd64 20.0.8-0ubuntu1~18.04.1 [5,532 B]\n",
            "Get:2 http://archive.ubuntu.com/ubuntu bionic/universe amd64 libglfw3 amd64 3.2.1-1 [49.2 kB]\n",
            "Get:3 http://archive.ubuntu.com/ubuntu bionic/universe amd64 patchelf amd64 0.9-1 [46.5 kB]\n",
            "Get:4 http://archive.ubuntu.com/ubuntu bionic-updates/main amd64 libosmesa6 amd64 20.0.8-0ubuntu1~18.04.1 [2,641 kB]\n",
            "Get:5 http://archive.ubuntu.com/ubuntu bionic-updates/main amd64 libosmesa6-dev amd64 20.0.8-0ubuntu1~18.04.1 [8,828 B]\n",
            "Fetched 2,751 kB in 1s (3,485 kB/s)\n",
            "debconf: unable to initialize frontend: Dialog\n",
            "debconf: (No usable dialog-like program is installed, so the dialog based frontend cannot be used. at /usr/share/perl5/Debconf/FrontEnd/Dialog.pm line 76, <> line 5.)\n",
            "debconf: falling back to frontend: Readline\n",
            "debconf: unable to initialize frontend: Readline\n",
            "debconf: (This frontend requires a controlling tty.)\n",
            "debconf: falling back to frontend: Teletype\n",
            "dpkg-preconfigure: unable to re-open stdin: \n",
            "Selecting previously unselected package libgl1-mesa-glx:amd64.\n",
            "(Reading database ... 155047 files and directories currently installed.)\n",
            "Preparing to unpack .../libgl1-mesa-glx_20.0.8-0ubuntu1~18.04.1_amd64.deb ...\n",
            "Unpacking libgl1-mesa-glx:amd64 (20.0.8-0ubuntu1~18.04.1) ...\n",
            "Selecting previously unselected package libglfw3:amd64.\n",
            "Preparing to unpack .../libglfw3_3.2.1-1_amd64.deb ...\n",
            "Unpacking libglfw3:amd64 (3.2.1-1) ...\n",
            "Selecting previously unselected package patchelf.\n",
            "Preparing to unpack .../patchelf_0.9-1_amd64.deb ...\n",
            "Unpacking patchelf (0.9-1) ...\n",
            "Selecting previously unselected package libosmesa6:amd64.\n",
            "Preparing to unpack .../libosmesa6_20.0.8-0ubuntu1~18.04.1_amd64.deb ...\n",
            "Unpacking libosmesa6:amd64 (20.0.8-0ubuntu1~18.04.1) ...\n",
            "Selecting previously unselected package libosmesa6-dev:amd64.\n",
            "Preparing to unpack .../libosmesa6-dev_20.0.8-0ubuntu1~18.04.1_amd64.deb ...\n",
            "Unpacking libosmesa6-dev:amd64 (20.0.8-0ubuntu1~18.04.1) ...\n",
            "Setting up patchelf (0.9-1) ...\n",
            "Setting up libosmesa6:amd64 (20.0.8-0ubuntu1~18.04.1) ...\n",
            "Setting up libglfw3:amd64 (3.2.1-1) ...\n",
            "Setting up libgl1-mesa-glx:amd64 (20.0.8-0ubuntu1~18.04.1) ...\n",
            "Setting up libosmesa6-dev:amd64 (20.0.8-0ubuntu1~18.04.1) ...\n",
            "Processing triggers for man-db (2.8.3-2ubuntu0.1) ...\n",
            "Processing triggers for libc-bin (2.27-3ubuntu1.3) ...\n",
            "/sbin/ldconfig.real: /usr/local/lib/python3.7/dist-packages/ideep4py/lib/libmkldnn.so.0 is not a symbolic link\n",
            "\n",
            "Collecting fasteners\n",
            "  Downloading fasteners-0.16.3-py2.py3-none-any.whl (28 kB)\n",
            "Collecting glfw\n",
            "  Downloading glfw-2.3.0-py2.py27.py3.py30.py31.py32.py33.py34.py35.py36.py37.py38-none-manylinux2014_x86_64.whl (204 kB)\n",
            "\u001b[K     |████████████████████████████████| 204 kB 35.2 MB/s \n",
            "\u001b[?25hRequirement already satisfied: six in /usr/local/lib/python3.7/dist-packages (from fasteners) (1.15.0)\n",
            "Installing collected packages: glfw, fasteners\n",
            "Successfully installed fasteners-0.16.3 glfw-2.3.0\n"
          ]
        }
      ]
    },
    {
      "cell_type": "code",
      "metadata": {
        "colab": {
          "base_uri": "https://localhost:8080/",
          "height": 35
        },
        "id": "40orhOYru868",
        "outputId": "d243b736-49e6-476c-c235-ef96c72f8ae4"
      },
      "source": [
        "import os\n",
        "os.environ['LD_LIBRARY_PATH'] += ':'\n",
        "os.environ['LD_LIBRARY_PATH'] += '/root/.mujoco/mujoco200/bin'\n",
        "os.environ.get(\"LD_LIBRARY_PATH\", \"\")"
      ],
      "execution_count": 5,
      "outputs": [
        {
          "output_type": "execute_result",
          "data": {
            "application/vnd.google.colaboratory.intrinsic+json": {
              "type": "string"
            },
            "text/plain": [
              "'/usr/local/nvidia/lib:/usr/local/nvidia/lib64:/root/.mujoco/mujoco200/bin'"
            ]
          },
          "metadata": {},
          "execution_count": 5
        }
      ]
    },
    {
      "cell_type": "code",
      "metadata": {
        "colab": {
          "base_uri": "https://localhost:8080/"
        },
        "id": "NtFpQcMU6qXf",
        "outputId": "66519f45-ce13-4a8e-d606-2b3464834e4a"
      },
      "source": [
        "!pip3 install mujoco-py\n",
        "!cp -r ~/.mujoco/mujoco200/bin/* /usr/lib/"
      ],
      "execution_count": 6,
      "outputs": [
        {
          "output_type": "stream",
          "name": "stdout",
          "text": [
            "Collecting mujoco-py\n",
            "  Downloading mujoco-py-2.0.2.13.tar.gz (792 kB)\n",
            "\u001b[?25l\r\u001b[K     |▍                               | 10 kB 28.3 MB/s eta 0:00:01\r\u001b[K     |▉                               | 20 kB 33.0 MB/s eta 0:00:01\r\u001b[K     |█▎                              | 30 kB 34.0 MB/s eta 0:00:01\r\u001b[K     |█▋                              | 40 kB 37.8 MB/s eta 0:00:01\r\u001b[K     |██                              | 51 kB 41.6 MB/s eta 0:00:01\r\u001b[K     |██▌                             | 61 kB 36.7 MB/s eta 0:00:01\r\u001b[K     |███                             | 71 kB 33.6 MB/s eta 0:00:01\r\u001b[K     |███▎                            | 81 kB 34.8 MB/s eta 0:00:01\r\u001b[K     |███▊                            | 92 kB 34.8 MB/s eta 0:00:01\r\u001b[K     |████▏                           | 102 kB 34.6 MB/s eta 0:00:01\r\u001b[K     |████▌                           | 112 kB 34.6 MB/s eta 0:00:01\r\u001b[K     |█████                           | 122 kB 34.6 MB/s eta 0:00:01\r\u001b[K     |█████▍                          | 133 kB 34.6 MB/s eta 0:00:01\r\u001b[K     |█████▉                          | 143 kB 34.6 MB/s eta 0:00:01\r\u001b[K     |██████▏                         | 153 kB 34.6 MB/s eta 0:00:01\r\u001b[K     |██████▋                         | 163 kB 34.6 MB/s eta 0:00:01\r\u001b[K     |███████                         | 174 kB 34.6 MB/s eta 0:00:01\r\u001b[K     |███████▌                        | 184 kB 34.6 MB/s eta 0:00:01\r\u001b[K     |███████▉                        | 194 kB 34.6 MB/s eta 0:00:01\r\u001b[K     |████████▎                       | 204 kB 34.6 MB/s eta 0:00:01\r\u001b[K     |████████▊                       | 215 kB 34.6 MB/s eta 0:00:01\r\u001b[K     |█████████                       | 225 kB 34.6 MB/s eta 0:00:01\r\u001b[K     |█████████▌                      | 235 kB 34.6 MB/s eta 0:00:01\r\u001b[K     |██████████                      | 245 kB 34.6 MB/s eta 0:00:01\r\u001b[K     |██████████▍                     | 256 kB 34.6 MB/s eta 0:00:01\r\u001b[K     |██████████▊                     | 266 kB 34.6 MB/s eta 0:00:01\r\u001b[K     |███████████▏                    | 276 kB 34.6 MB/s eta 0:00:01\r\u001b[K     |███████████▋                    | 286 kB 34.6 MB/s eta 0:00:01\r\u001b[K     |████████████                    | 296 kB 34.6 MB/s eta 0:00:01\r\u001b[K     |████████████▍                   | 307 kB 34.6 MB/s eta 0:00:01\r\u001b[K     |████████████▉                   | 317 kB 34.6 MB/s eta 0:00:01\r\u001b[K     |█████████████▎                  | 327 kB 34.6 MB/s eta 0:00:01\r\u001b[K     |█████████████▋                  | 337 kB 34.6 MB/s eta 0:00:01\r\u001b[K     |██████████████                  | 348 kB 34.6 MB/s eta 0:00:01\r\u001b[K     |██████████████▌                 | 358 kB 34.6 MB/s eta 0:00:01\r\u001b[K     |███████████████                 | 368 kB 34.6 MB/s eta 0:00:01\r\u001b[K     |███████████████▎                | 378 kB 34.6 MB/s eta 0:00:01\r\u001b[K     |███████████████▊                | 389 kB 34.6 MB/s eta 0:00:01\r\u001b[K     |████████████████▏               | 399 kB 34.6 MB/s eta 0:00:01\r\u001b[K     |████████████████▌               | 409 kB 34.6 MB/s eta 0:00:01\r\u001b[K     |█████████████████               | 419 kB 34.6 MB/s eta 0:00:01\r\u001b[K     |█████████████████▍              | 430 kB 34.6 MB/s eta 0:00:01\r\u001b[K     |█████████████████▉              | 440 kB 34.6 MB/s eta 0:00:01\r\u001b[K     |██████████████████▏             | 450 kB 34.6 MB/s eta 0:00:01\r\u001b[K     |██████████████████▋             | 460 kB 34.6 MB/s eta 0:00:01\r\u001b[K     |███████████████████             | 471 kB 34.6 MB/s eta 0:00:01\r\u001b[K     |███████████████████▌            | 481 kB 34.6 MB/s eta 0:00:01\r\u001b[K     |███████████████████▉            | 491 kB 34.6 MB/s eta 0:00:01\r\u001b[K     |████████████████████▎           | 501 kB 34.6 MB/s eta 0:00:01\r\u001b[K     |████████████████████▊           | 512 kB 34.6 MB/s eta 0:00:01\r\u001b[K     |█████████████████████           | 522 kB 34.6 MB/s eta 0:00:01\r\u001b[K     |█████████████████████▌          | 532 kB 34.6 MB/s eta 0:00:01\r\u001b[K     |██████████████████████          | 542 kB 34.6 MB/s eta 0:00:01\r\u001b[K     |██████████████████████▍         | 552 kB 34.6 MB/s eta 0:00:01\r\u001b[K     |██████████████████████▊         | 563 kB 34.6 MB/s eta 0:00:01\r\u001b[K     |███████████████████████▏        | 573 kB 34.6 MB/s eta 0:00:01\r\u001b[K     |███████████████████████▋        | 583 kB 34.6 MB/s eta 0:00:01\r\u001b[K     |████████████████████████        | 593 kB 34.6 MB/s eta 0:00:01\r\u001b[K     |████████████████████████▍       | 604 kB 34.6 MB/s eta 0:00:01\r\u001b[K     |████████████████████████▉       | 614 kB 34.6 MB/s eta 0:00:01\r\u001b[K     |█████████████████████████▎      | 624 kB 34.6 MB/s eta 0:00:01\r\u001b[K     |█████████████████████████▋      | 634 kB 34.6 MB/s eta 0:00:01\r\u001b[K     |██████████████████████████      | 645 kB 34.6 MB/s eta 0:00:01\r\u001b[K     |██████████████████████████▌     | 655 kB 34.6 MB/s eta 0:00:01\r\u001b[K     |███████████████████████████     | 665 kB 34.6 MB/s eta 0:00:01\r\u001b[K     |███████████████████████████▎    | 675 kB 34.6 MB/s eta 0:00:01\r\u001b[K     |███████████████████████████▊    | 686 kB 34.6 MB/s eta 0:00:01\r\u001b[K     |████████████████████████████▏   | 696 kB 34.6 MB/s eta 0:00:01\r\u001b[K     |████████████████████████████▌   | 706 kB 34.6 MB/s eta 0:00:01\r\u001b[K     |█████████████████████████████   | 716 kB 34.6 MB/s eta 0:00:01\r\u001b[K     |█████████████████████████████▍  | 727 kB 34.6 MB/s eta 0:00:01\r\u001b[K     |█████████████████████████████▉  | 737 kB 34.6 MB/s eta 0:00:01\r\u001b[K     |██████████████████████████████▏ | 747 kB 34.6 MB/s eta 0:00:01\r\u001b[K     |██████████████████████████████▋ | 757 kB 34.6 MB/s eta 0:00:01\r\u001b[K     |███████████████████████████████ | 768 kB 34.6 MB/s eta 0:00:01\r\u001b[K     |███████████████████████████████▍| 778 kB 34.6 MB/s eta 0:00:01\r\u001b[K     |███████████████████████████████▉| 788 kB 34.6 MB/s eta 0:00:01\r\u001b[K     |████████████████████████████████| 792 kB 34.6 MB/s \n",
            "\u001b[?25h  Installing build dependencies ... \u001b[?25l\u001b[?25hdone\n",
            "\u001b[33m  WARNING: Missing build requirements in pyproject.toml for mujoco-py from https://files.pythonhosted.org/packages/2f/48/b108057c1a23c8da9f4cdc7a7c46ab7cec49c3563c0706d50f2527de6ba0/mujoco-py-2.0.2.13.tar.gz#sha256=d6ae66276b565af9063597fda70683a89c7356290f5ac3961b794ee90ec50eea.\u001b[0m\n",
            "\u001b[33m  WARNING: The project does not specify a build backend, and pip cannot fall back to setuptools without 'wheel'.\u001b[0m\n",
            "  Getting requirements to build wheel ... \u001b[?25l\u001b[?25hdone\n",
            "  Installing backend dependencies ... \u001b[?25l\u001b[?25hdone\n",
            "    Preparing wheel metadata ... \u001b[?25l\u001b[?25hdone\n",
            "Requirement already satisfied: numpy>=1.11 in /usr/local/lib/python3.7/dist-packages (from mujoco-py) (1.19.5)\n",
            "Requirement already satisfied: cffi>=1.10 in /usr/local/lib/python3.7/dist-packages (from mujoco-py) (1.14.6)\n",
            "Requirement already satisfied: fasteners~=0.15 in /usr/local/lib/python3.7/dist-packages (from mujoco-py) (0.16.3)\n",
            "Requirement already satisfied: glfw>=1.4.0 in /usr/local/lib/python3.7/dist-packages (from mujoco-py) (2.3.0)\n",
            "Requirement already satisfied: imageio>=2.1.2 in /usr/local/lib/python3.7/dist-packages (from mujoco-py) (2.4.1)\n",
            "Requirement already satisfied: Cython>=0.27.2 in /usr/local/lib/python3.7/dist-packages (from mujoco-py) (0.29.24)\n",
            "Requirement already satisfied: pycparser in /usr/local/lib/python3.7/dist-packages (from cffi>=1.10->mujoco-py) (2.20)\n",
            "Requirement already satisfied: six in /usr/local/lib/python3.7/dist-packages (from fasteners~=0.15->mujoco-py) (1.15.0)\n",
            "Requirement already satisfied: pillow in /usr/local/lib/python3.7/dist-packages (from imageio>=2.1.2->mujoco-py) (7.1.2)\n",
            "Building wheels for collected packages: mujoco-py\n",
            "  Building wheel for mujoco-py (PEP 517) ... \u001b[?25l\u001b[?25hdone\n",
            "  Created wheel for mujoco-py: filename=mujoco_py-2.0.2.13-py3-none-any.whl size=3367247 sha256=b1f9fc65b6e5cdb0d620f4fd5e1b94d47133ad393c144f9480cb1948dce8cfa6\n",
            "  Stored in directory: /root/.cache/pip/wheels/4a/4b/b7/8d959f9403e3271777556258071e62e217fbf83eafe39058ef\n",
            "Successfully built mujoco-py\n",
            "Installing collected packages: mujoco-py\n",
            "Successfully installed mujoco-py-2.0.2.13\n"
          ]
        }
      ]
    },
    {
      "cell_type": "code",
      "metadata": {
        "colab": {
          "base_uri": "https://localhost:8080/"
        },
        "id": "P4Xpgvm-jWC2",
        "outputId": "794f0fa2-b902-4aa2-ce4d-533d5d811832"
      },
      "source": [
        "import gym\n",
        "gym.make('Walker2d-v3')"
      ],
      "execution_count": 7,
      "outputs": [
        {
          "output_type": "execute_result",
          "data": {
            "text/plain": [
              "<TimeLimit<Walker2dEnv<Walker2d-v3>>>"
            ]
          },
          "metadata": {},
          "execution_count": 7
        }
      ]
    }
  ]
}